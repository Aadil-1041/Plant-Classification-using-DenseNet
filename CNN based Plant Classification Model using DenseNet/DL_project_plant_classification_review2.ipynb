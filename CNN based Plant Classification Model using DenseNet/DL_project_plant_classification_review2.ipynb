{
  "nbformat": 4,
  "nbformat_minor": 0,
  "metadata": {
    "colab": {
      "name": "DL_project_plant_classification_review2.ipynb",
      "provenance": []
    },
    "kernelspec": {
      "name": "python3",
      "display_name": "Python 3"
    },
    "language_info": {
      "name": "python"
    }
  },
  "cells": [
    {
      "cell_type": "code",
      "source": [
        "from google.colab import drive\n",
        "drive.mount('/content/drive')"
      ],
      "metadata": {
        "colab": {
          "base_uri": "https://localhost:8080/"
        },
        "id": "4qmr3pMjUa3Y",
        "outputId": "ab850cb5-a6ad-4207-c84f-0e0bb792ecb9"
      },
      "execution_count": null,
      "outputs": [
        {
          "output_type": "stream",
          "name": "stdout",
          "text": [
            "Drive already mounted at /content/drive; to attempt to forcibly remount, call drive.mount(\"/content/drive\", force_remount=True).\n"
          ]
        }
      ]
    },
    {
      "cell_type": "code",
      "source": [
        ""
      ],
      "metadata": {
        "id": "ub0DB9gBWEhu"
      },
      "execution_count": null,
      "outputs": []
    },
    {
      "cell_type": "markdown",
      "source": [
        "### ResNet -50 implementaion with transfer learning"
      ],
      "metadata": {
        "id": "fvGHEuvc9RgH"
      }
    },
    {
      "cell_type": "code",
      "metadata": {
        "id": "D2SdT4dA4_h3"
      },
      "source": [
        "#importing Libraries\n",
        "from tensorflow import keras\n",
        "from tensorflow.keras import layers\n",
        "from keras.preprocessing.image import ImageDataGenerator\n",
        "from tensorflow.keras.applications.resnet50 import ResNet50\n",
        "from tensorflow.keras.models import Model"
      ],
      "execution_count": null,
      "outputs": []
    },
    {
      "cell_type": "code",
      "metadata": {
        "id": "jMsZLCIq0azN"
      },
      "source": [
        "train_datagen = ImageDataGenerator(rescale=1./255, zoom_range=0.3, rotation_range=50,\n",
        " width_shift_range=0.2, height_shift_range=0.2, shear_range=0.2, \n",
        " horizontal_flip=True, fill_mode='nearest')\n",
        "\n",
        "test_datagen = ImageDataGenerator(\n",
        "    rescale = 1/255\n",
        ")"
      ],
      "execution_count": null,
      "outputs": []
    },
    {
      "cell_type": "code",
      "metadata": {
        "id": "22b1vRzlWudq",
        "colab": {
          "base_uri": "https://localhost:8080/"
        },
        "outputId": "c8eeaf8d-cb86-40b7-9d39-dc36fa8e9a37"
      },
      "source": [
        "from keras.layers import Input\n",
        "model = ResNet50(include_top= False,input_shape=  (224,224,3))"
      ],
      "execution_count": null,
      "outputs": [
        {
          "output_type": "stream",
          "name": "stdout",
          "text": [
            "Downloading data from https://storage.googleapis.com/tensorflow/keras-applications/resnet/resnet50_weights_tf_dim_ordering_tf_kernels_notop.h5\n",
            "94773248/94765736 [==============================] - 1s 0us/step\n",
            "94781440/94765736 [==============================] - 1s 0us/step\n"
          ]
        }
      ]
    },
    {
      "cell_type": "code",
      "metadata": {
        "id": "TfVtihftlkme"
      },
      "source": [
        "for layer in model.layers:\n",
        "  layer.trainable =False"
      ],
      "execution_count": null,
      "outputs": []
    },
    {
      "cell_type": "code",
      "metadata": {
        "id": "tHxdT5fsKB-i"
      },
      "source": [
        "flatten_layer = layers.Flatten()(model.output)\n",
        "flattened_fc_layer = layers.Dense(512, activation='relu')(flatten_layer)\n",
        "flattened_fc_layer_2 = layers.Dense(1024, activation='relu')(flattened_fc_layer)\n",
        "flattened_fc_softmax_layer = layers.Dense(3, activation='softmax')(flattened_fc_layer_2)"
      ],
      "execution_count": null,
      "outputs": []
    },
    {
      "cell_type": "code",
      "metadata": {
        "id": "vm6pdt8lmlU3"
      },
      "source": [
        "model = Model(inputs = model.inputs, outputs = flattened_fc_softmax_layer)"
      ],
      "execution_count": null,
      "outputs": []
    },
    {
      "cell_type": "code",
      "metadata": {
        "id": "vYNdK5RPKnSD",
        "colab": {
          "base_uri": "https://localhost:8080/"
        },
        "outputId": "43137979-e20d-4ee4-9916-77c7edcb00cc"
      },
      "source": [
        "training_iterator = train_datagen.flow_from_directory('/content/drive/MyDrive/DL_proj_dataset/train', batch_size=30, target_size=(224,224))\n",
        "testing_iterator = test_datagen.flow_from_directory('/content/drive/MyDrive/DL_proj_dataset/test', batch_size=30, target_size=(224,224))"
      ],
      "execution_count": null,
      "outputs": [
        {
          "output_type": "stream",
          "name": "stdout",
          "text": [
            "Found 1148 images belonging to 3 classes.\n",
            "Found 286 images belonging to 3 classes.\n"
          ]
        }
      ]
    },
    {
      "cell_type": "code",
      "metadata": {
        "colab": {
          "base_uri": "https://localhost:8080/"
        },
        "id": "7a_6uMJsk9gV",
        "outputId": "6deea168-5d80-4460-ad3d-1f891178ad94"
      },
      "source": [
        "training_iterator.class_indices"
      ],
      "execution_count": null,
      "outputs": [
        {
          "output_type": "execute_result",
          "data": {
            "text/plain": [
              "{'medicinal': 0, 'parasitic': 1, 'poisonous': 2}"
            ]
          },
          "metadata": {},
          "execution_count": 9
        }
      ]
    },
    {
      "cell_type": "code",
      "metadata": {
        "id": "1g04ShmyK0E4",
        "colab": {
          "base_uri": "https://localhost:8080/"
        },
        "outputId": "74c9ef4d-87ca-4661-97c6-db2196eae663"
      },
      "source": [
        "model.compile(loss='categorical_crossentropy', metrics=['accuracy'], optimizer='adam')\n",
        "history = model.fit(training_iterator, validation_data = testing_iterator, epochs=10)"
      ],
      "execution_count": null,
      "outputs": [
        {
          "output_type": "stream",
          "name": "stdout",
          "text": [
            "Epoch 1/10\n",
            "39/39 [==============================] - 205s 5s/step - loss: 3.3407 - accuracy: 0.6768 - val_loss: 0.6339 - val_accuracy: 0.8881\n",
            "Epoch 2/10\n",
            "39/39 [==============================] - 48s 1s/step - loss: 0.3928 - accuracy: 0.8720 - val_loss: 0.2395 - val_accuracy: 0.9056\n",
            "Epoch 3/10\n",
            "39/39 [==============================] - 48s 1s/step - loss: 0.2782 - accuracy: 0.8902 - val_loss: 0.2562 - val_accuracy: 0.9056\n",
            "Epoch 4/10\n",
            "39/39 [==============================] - 47s 1s/step - loss: 0.2747 - accuracy: 0.8841 - val_loss: 0.1950 - val_accuracy: 0.9266\n",
            "Epoch 5/10\n",
            "39/39 [==============================] - 49s 1s/step - loss: 0.2245 - accuracy: 0.9016 - val_loss: 0.2421 - val_accuracy: 0.9091\n",
            "Epoch 6/10\n",
            "39/39 [==============================] - 50s 1s/step - loss: 0.2577 - accuracy: 0.8929 - val_loss: 0.2225 - val_accuracy: 0.8986\n",
            "Epoch 7/10\n",
            "39/39 [==============================] - 48s 1s/step - loss: 0.2706 - accuracy: 0.8929 - val_loss: 0.2799 - val_accuracy: 0.8846\n",
            "Epoch 8/10\n",
            "39/39 [==============================] - 48s 1s/step - loss: 0.2317 - accuracy: 0.8981 - val_loss: 0.1987 - val_accuracy: 0.9126\n",
            "Epoch 9/10\n",
            "39/39 [==============================] - 48s 1s/step - loss: 0.2206 - accuracy: 0.9164 - val_loss: 0.2454 - val_accuracy: 0.9056\n",
            "Epoch 10/10\n",
            "39/39 [==============================] - 48s 1s/step - loss: 0.2720 - accuracy: 0.8929 - val_loss: 0.1869 - val_accuracy: 0.9266\n"
          ]
        }
      ]
    },
    {
      "cell_type": "code",
      "source": [
        "from tensorflow.keras.preprocessing import image \n",
        "import numpy as np\n",
        "img= image.load_img(\"test-1.jpg\",target_size=(224,224))\n",
        "#Converting the test image from \"PIL.Image.Image\" format to \"numpy.ndarray\" format\n",
        "x=image.img_to_array(img)\n",
        "type(x)\n",
        "#Increasing the no.of dimensions of the image array, so as to fit in the model.\n",
        "x=np.expand_dims(x,axis=0)\n",
        "x.shape\n",
        "#Predicting the class of x\n",
        "y_pred= np.argmax(model.predict(x))\n",
        "y_pred"
      ],
      "metadata": {
        "id": "WNEFDdK1v0kr"
      },
      "execution_count": null,
      "outputs": []
    },
    {
      "cell_type": "code",
      "execution_count": null,
      "metadata": {
        "id": "3JFOPhEjmGRE",
        "outputId": "f0246f16-40e5-45e2-f8ad-3723a77ab193",
        "colab": {
          "base_uri": "https://localhost:8080/"
        }
      },
      "outputs": [
        {
          "output_type": "execute_result",
          "data": {
            "text/plain": [
              "PIL.Image.Image"
            ]
          },
          "metadata": {},
          "execution_count": 12
        }
      ],
      "source": [
        "type(img)"
      ]
    },
    {
      "cell_type": "code",
      "source": [
        ""
      ],
      "metadata": {
        "id": "uYBeYE3Wn_Ow"
      },
      "execution_count": null,
      "outputs": []
    },
    {
      "cell_type": "code",
      "metadata": {
        "id": "MdSmhNmxv7gh",
        "colab": {
          "base_uri": "https://localhost:8080/"
        },
        "outputId": "063ddf37-3cab-4239-f796-2224e2ff07d2"
      },
      "source": [
        "model.save(\"model1.h5\")"
      ],
      "execution_count": null,
      "outputs": [
        {
          "output_type": "stream",
          "name": "stderr",
          "text": [
            "/usr/local/lib/python3.7/dist-packages/keras/engine/functional.py:1410: CustomMaskWarning: Custom mask layers require a config and must override get_config. When loading, the custom mask layer must be passed to the custom_objects argument.\n",
            "  layer_config = serialize_layer_fn(layer)\n"
          ]
        }
      ]
    },
    {
      "cell_type": "code",
      "source": [
        ""
      ],
      "metadata": {
        "id": "Sv8yr_cyy6JS"
      },
      "execution_count": null,
      "outputs": []
    },
    {
      "cell_type": "markdown",
      "source": [
        "### DenseNet implementaion with transfer learning"
      ],
      "metadata": {
        "id": "pY5tZzYaTGlD"
      }
    },
    {
      "cell_type": "code",
      "source": [
        "from tensorflow.keras.applications.densenet import DenseNet121"
      ],
      "metadata": {
        "id": "Uh9bk3zZTNCA"
      },
      "execution_count": null,
      "outputs": []
    },
    {
      "cell_type": "code",
      "metadata": {
        "id": "Ovsu3LKUbnVZ"
      },
      "source": [
        "train_datagen = ImageDataGenerator(rescale=1./255, zoom_range=0.3, rotation_range=50,\n",
        " width_shift_range=0.2, height_shift_range=0.2, shear_range=0.2, \n",
        " horizontal_flip=True, fill_mode='nearest')\n",
        "\n",
        "test_datagen = ImageDataGenerator(\n",
        "    rescale = 1/255\n",
        ")"
      ],
      "execution_count": null,
      "outputs": []
    },
    {
      "cell_type": "code",
      "metadata": {
        "id": "J-zX_jaqbnVa"
      },
      "source": [
        "training_iterator = train_datagen.flow_from_directory('/content/drive/MyDrive/DL_proj_dataset/train', batch_size=30, target_size=(64,64))\n",
        "testing_iterator = test_datagen.flow_from_directory('/content/drive/MyDrive/DL_proj_dataset/test', batch_size=30, target_size=(64,64))"
      ],
      "execution_count": null,
      "outputs": []
    },
    {
      "cell_type": "code",
      "source": [
        "def build_densenet():\n",
        "    densenet = DenseNet121(weights='imagenet', include_top=False)\n",
        "\n",
        "    input = Input(shape=(64, 64, 3))\n",
        "    x = Conv2D(3, (3, 3), padding='same')(input)\n",
        "    \n",
        "    x = densenet(x)\n",
        "    \n",
        "    x = AveragePooling2D()(x)\n",
        "    x = BatchNormalization()(x)\n",
        "    x = Dropout(0.5)(x)\n",
        "    x = Dense(256, activation='relu')(x)\n",
        "    x = BatchNormalization()(x)\n",
        "    x = Dropout(0.5)(x)\n",
        "\n",
        "    # multi output\n",
        "    output = Dense(15,activation = 'softmax', name='root')(x)\n",
        " \n",
        "\n",
        "    # model\n",
        "    model = Model(input,output)\n",
        "    \n",
        "    model.compile(loss='categorical_crossentropy', optimizer='adam', metrics=['accuracy'])\n",
        "    model.summary()\n",
        "    \n",
        "    return model\n"
      ],
      "metadata": {
        "id": "_zA6-i14YY6W"
      },
      "execution_count": null,
      "outputs": []
    },
    {
      "cell_type": "code",
      "source": [
        "from keras import layers\n",
        "from keras.layers import AveragePooling2D\n",
        "from tensorflow.keras.layers import BatchNormalization\n",
        "from keras.layers import Dropout\n",
        "from keras.layers import Dense\n",
        "\n",
        "model = build_densenet()\n",
        "datagen = ImageDataGenerator(rotation_range=360, # Degree range for random rotations\n",
        "                        width_shift_range=0.2, # Range for random horizontal shifts\n",
        "                        height_shift_range=0.2, # Range for random vertical shifts\n",
        "                        zoom_range=0.2, # Range for random zoom\n",
        "                        horizontal_flip=True, # Randomly flip inputs horizontally\n",
        "                        vertical_flip=True) # Randomly flip inputs vertically\n",
        "\n",
        "datagen.fit(training_iterator)\n",
        "# Fits the model on batches with real-time data augmentation\n",
        "hist = model.fit_generator(datagen.flow(training_iterator, Y_train, batch_size=BATCH_SIZE),\n",
        "               steps_per_epoch=training_iterator.shape[0] // BATCH_SIZE,\n",
        "               epochs=10,\n",
        "               verbose=2,\n",
        "               validation_data=testing_iterator)"
      ],
      "metadata": {
        "id": "nLHi6huvdSlt"
      },
      "execution_count": null,
      "outputs": []
    },
    {
      "cell_type": "code",
      "source": [
        ""
      ],
      "metadata": {
        "id": "Spi8aMK3bNZO"
      },
      "execution_count": null,
      "outputs": []
    }
  ]
}